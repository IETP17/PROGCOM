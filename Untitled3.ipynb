{
  "nbformat": 4,
  "nbformat_minor": 0,
  "metadata": {
    "colab": {
      "name": "Untitled3.ipynb",
      "provenance": []
    },
    "kernelspec": {
      "name": "python3",
      "display_name": "Python 3"
    },
    "language_info": {
      "name": "python"
    }
  },
  "cells": [
    {
      "cell_type": "code",
      "source": [
        "\n",
        "x=int(input('escriba un numero entero para ser dividido '))\n",
        "b=int(input('escriba un segundo numero enentero el cual va a dividir '))\n",
        "if b == 0:\n",
        "  print('es completamente erronio esta divicion')\n",
        "else:\n",
        "  c=x/b\n",
        "  y=x%b\n",
        "  if y ==0:\n",
        "    print('la division da ',c)\n",
        "  else:\n",
        "    print('la division da ',c,' el residuo da ',(y) )\n",
        "\n",
        "\n"
      ],
      "metadata": {
        "colab": {
          "base_uri": "https://localhost:8080/"
        },
        "id": "LZtxr7FyojrS",
        "outputId": "0dcc084e-43cd-40f9-812a-ecb96f3ccfc8"
      },
      "execution_count": 27,
      "outputs": [
        {
          "output_type": "stream",
          "name": "stdout",
          "text": [
            "escriba un numero entero para ser dividido 5\n",
            "escriba un segundo numero enentero el cual va a dividir 2\n",
            "la division da  2.5  el residuo da  1\n"
          ]
        }
      ]
    },
    {
      "cell_type": "code",
      "source": [
        "x=int(input('escriba un numero mayor de cero '))\n",
        "b=int(input('escriba un segundo numero mayor de cero  '))\n",
        "if b == 0 or x==0:\n",
        "  print('esto no te lo pedi')\n",
        "else:\n",
        "  y=x%b\n",
        "  c=b%x\n",
        "  if y ==0:\n",
        "    print(x,' es multiplo de ',b)\n",
        "  elif c==0:\n",
        "    print(b,' es multiplo de ',x)\n",
        "  else:\n",
        "    print('los numeros ',x,' y ',b,' no son multiplos ninguno del otro' )\n",
        "\n"
      ],
      "metadata": {
        "colab": {
          "base_uri": "https://localhost:8080/"
        },
        "id": "2SnrgpMIxBcA",
        "outputId": "a4a0ec8a-6965-40fb-ac5a-9dbe73499d80"
      },
      "execution_count": 34,
      "outputs": [
        {
          "output_type": "stream",
          "name": "stdout",
          "text": [
            "escriba un numero mayor de cero 8\n",
            "escriba un segundo numero mayor de cero  4\n",
            "8  es multiplo de  4\n"
          ]
        }
      ]
    },
    {
      "cell_type": "code",
      "source": [
        "x=int(input('edad del primer hermano '))\n",
        "b=int(input('edad del segundo hermano '))\n",
        "c=int(input('edad del tercer hermano '))\n",
        "mayor=x\n",
        "if mayor>b:\n",
        "  if mayor >c:\n",
        "    if b>c:\n",
        "      print('mayor ',x,' mediano ',b,' menor ',c)\n",
        "    else:\n",
        "      print('mayor ',x,' mediano ',c,' menor ',b)\n",
        "elif mayor<b:\n",
        "  mayor=b\n",
        "  if mayor >c:\n",
        "    if x>c:\n",
        "      print('mayor ',b,' mediano ',x,' menor ',c)\n",
        "    else:\n",
        "      print('mayor ',b,' mediano ',c,' menor ',x)\n",
        "elif mayor<c:\n",
        "  mayor=c\n",
        "  if mayor >b:\n",
        "    if x>b:\n",
        "      print('mayor ',c,' mediano ',x,' menor ',b)\n",
        "    else:\n",
        "      print('mayor ',c,' mediano ',b\n",
        "            ,' menor ',x)\n",
        "\n",
        "\n"
      ],
      "metadata": {
        "colab": {
          "base_uri": "https://localhost:8080/"
        },
        "id": "dX60bLbvy-DF",
        "outputId": "5ead56d8-20ff-4a33-915f-e261c9e1e1f7"
      },
      "execution_count": 35,
      "outputs": [
        {
          "output_type": "stream",
          "name": "stdout",
          "text": [
            "edad del primer hermano 5\n",
            "edad del segundo hermano 2\n",
            "edad del tercer hermano 3\n",
            "mayor  5  mediano  3  menor  2\n"
          ]
        }
      ]
    }
  ]
}